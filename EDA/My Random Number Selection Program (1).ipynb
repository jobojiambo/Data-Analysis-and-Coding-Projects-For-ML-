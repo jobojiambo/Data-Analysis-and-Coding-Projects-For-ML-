{
 "cells": [
  {
   "cell_type": "markdown",
   "id": "b1f7a516",
   "metadata": {},
   "source": [
    "# 1) Creating a signature function"
   ]
  },
  {
   "cell_type": "code",
   "execution_count": 2,
   "id": "8c31a430",
   "metadata": {},
   "outputs": [
    {
     "name": "stdout",
     "output_type": "stream",
     "text": [
      "None\n"
     ]
    },
    {
     "data": {
      "text/plain": [
       "False"
      ]
     },
     "execution_count": 2,
     "metadata": {},
     "output_type": "execute_result"
    }
   ],
   "source": [
    "def locate_cards(cards, query):\n",
    "    pass\n",
    "# 2)Inputs and outputs example (test cases)\n",
    "cards = [13, 11, 10, 7, 4, 3, 1, 0]\n",
    "query = [7]\n",
    "output = [3]\n",
    "#3)Test the function by passing inputs and comparing the result with the expected outpuT\n",
    "result = locate_cards(cards, query)\n",
    "print(result)\n",
    "#COMPARISON\n",
    "result==output"
   ]
  },
  {
   "cell_type": "markdown",
   "id": "24d638f2",
   "metadata": {},
   "source": [
    "# 2) Creating Test Cases"
   ]
  },
  {
   "cell_type": "raw",
   "id": "105d10f8",
   "metadata": {},
   "source": [
    "The two results are not matching the output since the function has not yet been implemented.\n",
    "We will represent our test cases as dictionaries for easier testing once the function is written and implemented. \n",
    "Eg: the above function can be represented as follows"
   ]
  },
  {
   "cell_type": "code",
   "execution_count": 2,
   "id": "b15979f8",
   "metadata": {},
   "outputs": [
    {
     "data": {
      "text/plain": [
       "False"
      ]
     },
     "execution_count": 2,
     "metadata": {},
     "output_type": "execute_result"
    }
   ],
   "source": [
    "#To make our testing easire since we are going to repeat the process over and over, \n",
    "#we set our test cases as dictionaries as we keep improving them\n",
    "test = {\n",
    "    'input': {\n",
    "        'cards': [13, 11, 10, 7, 4, 3, 1, 0],\n",
    "        'query': 7\n",
    "    },\n",
    "    'output': 3\n",
    "}\n",
    "#note that the dictionary contains two keys: INPUT and OUTPUT\n",
    "#Input contains one key for each argument to the function\n",
    "#The function arguments: Cards and Query \n",
    "# In the dictionry, we take one key called cards and put as shown 'cards': [13, 11, 10, 7, 4, 3, 1, 0]\n",
    "# another key called query and put as shown above: query': 7\n",
    "#the function can be tested as follows: \n",
    "\n",
    "locate_cards(test['input']['cards'],test['input']['query'])==test['output']\n",
    "# Or by shorter way\n",
    "locate_cards(**test['input'])==test['output']\n",
    "\n"
   ]
  },
  {
   "cell_type": "markdown",
   "id": "75146e6e",
   "metadata": {},
   "source": [
    "This first tes case is not sufficient for us to start writing our code. \n",
    "This is because our function should be able to handle any number and set of valid inputs that we pass\n",
    "into it. Some of the possible variations we ight expect to encounter:\n",
    "    1. The Query occurs somewhere in the middle of the list cards.\n",
    "    2. Query is the first element in the cards.\n",
    "    3. Query is the last element in the cards.\n",
    "    4. The list cards contains one element only; cards only.\n",
    "    5. The list cards does not contain the number query.\n",
    "    6. The list cards is empty\n",
    "    7. The list cards contains repeating numbers.\n",
    "    8. The number query occurs at more than one position in the cards.\n",
    "    \n",
    "Edge cases: While edge cases dont occur frequently, the program should be able to handle the edge cases since they represent rare or extreme examples. Otherwise the function(program) will fail in unexpected ways. Sometimes, hackes use edge cases to hack into the software."
   ]
  },
  {
   "cell_type": "markdown",
   "id": "47df1706",
   "metadata": {},
   "source": [
    "Creating more cases for all the variations we listed in the program.\n",
    "We will store all our test cases in a list for easire testing. \n",
    "Therefore we will create a list called test and further create all the test cases in a dictionary format.\n",
    "We will then keep appending these test cases to our list"
   ]
  },
  {
   "cell_type": "code",
   "execution_count": 47,
   "id": "ec560c91",
   "metadata": {},
   "outputs": [],
   "source": [
    "tests = []"
   ]
  },
  {
   "cell_type": "code",
   "execution_count": 48,
   "id": "f62ab7ed",
   "metadata": {},
   "outputs": [],
   "source": [
    "#First case scenario Query occurs in the midle:\n",
    "tests.append(test)\n",
    "\n",
    "tests.append({\n",
    "    'input': {\n",
    "        'cards': [13, 11, 10, 7, 4, 3, 1, 0],\n",
    "        'query': 1\n",
    "    },\n",
    "    'output': 6\n",
    "})\n",
    "#Note that our query:(1) is neither a first nor a last element, but its somewher in the mddle of the list\n"
   ]
  },
  {
   "cell_type": "code",
   "execution_count": 49,
   "id": "a68f4329",
   "metadata": {},
   "outputs": [],
   "source": [
    "#Second case scenario, Query is the first element:\n",
    "tests.append(test)\n",
    "\n",
    "tests.append({\n",
    "    'input': {\n",
    "        'cards': [4, 2, 1, -1],\n",
    "        'query': 4\n",
    "    },\n",
    "    'output': 0\n",
    "})"
   ]
  },
  {
   "cell_type": "code",
   "execution_count": 50,
   "id": "8f373893",
   "metadata": {},
   "outputs": [],
   "source": [
    "#Third case scenario, Query is the last element\n",
    "tests.append(test)\n",
    "\n",
    "tests.append({\n",
    "    'input': {\n",
    "        'cards': [3, -1, -9, -127],\n",
    "        'query': -127\n",
    "    },\n",
    "    'output': 3\n",
    "})"
   ]
  },
  {
   "cell_type": "markdown",
   "id": "3b2c895e",
   "metadata": {},
   "source": [
    "The problem statement does not specify what to do if the list cards does not contain the number query.\n",
    "In such a case:\n",
    "    1. Carefully read the problem statement once more,\n",
    "    2. Look through the examples provided with the problem,\n",
    "    3. Ask the interviewer for some clarifications,\n",
    "    4. Make a reasonable assumption, state it and move forward\n",
    "In this case, let us assume that the fuction -1 in case cards does not contain the query"
   ]
  },
  {
   "cell_type": "code",
   "execution_count": 51,
   "id": "7f6decc4",
   "metadata": {},
   "outputs": [],
   "source": [
    "#Fifth case scenario, cards does not contain query\n",
    "tests.append(test)\n",
    "\n",
    "tests.append({\n",
    "    'input': {\n",
    "        'cards': [9, 7, 2, -9],\n",
    "        'query': 4\n",
    "    },\n",
    "    'output': -1\n",
    "}) "
   ]
  },
  {
   "cell_type": "code",
   "execution_count": 52,
   "id": "d22b2162",
   "metadata": {},
   "outputs": [],
   "source": [
    "#Sixth case scenario, cards is empty\n",
    "tests.append(test)\n",
    "\n",
    "tests.append({\n",
    "    'input': {\n",
    "        'cards': [],\n",
    "        'query': 7\n",
    "    },\n",
    "    'output': 0\n",
    "})"
   ]
  },
  {
   "cell_type": "code",
   "execution_count": 53,
   "id": "2601a2b1",
   "metadata": {},
   "outputs": [],
   "source": [
    "#Seventh case scenario: Numbers can repeat in cards:\n",
    "tests.append(test)\n",
    "\n",
    "tests.append({\n",
    "    'input': {\n",
    "        'cards': [8,8,6,6,6,3,3,1,1],\n",
    "        'query': 3\n",
    "    },\n",
    "    'output': 6\n",
    "})"
   ]
  },
  {
   "cell_type": "markdown",
   "id": "e1db916a",
   "metadata": {},
   "source": [
    "In the cse whwre the query occurs multiple times in cards, we'll ecpect the function to return the first occurence of the query.\n",
    "While it masy also be acceptable for the function to return any position whwre query occurs within the list, it would be slightly more difficult to test the function, as the out is non-dterministic"
   ]
  },
  {
   "cell_type": "code",
   "execution_count": 54,
   "id": "465fc51f",
   "metadata": {},
   "outputs": [],
   "source": [
    "#Eighth case scenario, query occurs multiple times\n",
    "tests.append(test)\n",
    "\n",
    "tests.append({\n",
    "    'input': {\n",
    "        'cards': [8,8,6,6,6,3,3,1,1],\n",
    "        'query': 6\n",
    "    },\n",
    "    'output': 2\n",
    "})"
   ]
  },
  {
   "cell_type": "markdown",
   "id": "1961c822",
   "metadata": {},
   "source": [
    "Lets look at the full set of cases we have created so far"
   ]
  },
  {
   "cell_type": "code",
   "execution_count": 55,
   "id": "745ab5e8",
   "metadata": {},
   "outputs": [
    {
     "data": {
      "text/plain": [
       "[{'input': {'cards': [13, 11, 10, 7, 4, 3, 1, 0], 'query': 7}, 'output': 3},\n",
       " {'input': {'cards': [13, 11, 10, 7, 4, 3, 1, 0], 'query': 1}, 'output': 6},\n",
       " {'input': {'cards': [13, 11, 10, 7, 4, 3, 1, 0], 'query': 7}, 'output': 3},\n",
       " {'input': {'cards': [4, 2, 1, -1], 'query': 4}, 'output': 0},\n",
       " {'input': {'cards': [13, 11, 10, 7, 4, 3, 1, 0], 'query': 7}, 'output': 3},\n",
       " {'input': {'cards': [3, -1, -9, -127], 'query': -127}, 'output': 3},\n",
       " {'input': {'cards': [13, 11, 10, 7, 4, 3, 1, 0], 'query': 7}, 'output': 3},\n",
       " {'input': {'cards': [9, 7, 2, -9], 'query': 4}, 'output': -1},\n",
       " {'input': {'cards': [13, 11, 10, 7, 4, 3, 1, 0], 'query': 7}, 'output': 3},\n",
       " {'input': {'cards': [], 'query': 7}, 'output': 0},\n",
       " {'input': {'cards': [13, 11, 10, 7, 4, 3, 1, 0], 'query': 7}, 'output': 3},\n",
       " {'input': {'cards': [8, 8, 6, 6, 6, 3, 3, 1, 1], 'query': 3}, 'output': 6},\n",
       " {'input': {'cards': [13, 11, 10, 7, 4, 3, 1, 0], 'query': 7}, 'output': 3},\n",
       " {'input': {'cards': [8, 8, 6, 6, 6, 3, 3, 1, 1], 'query': 6}, 'output': 2}]"
      ]
     },
     "execution_count": 55,
     "metadata": {},
     "output_type": "execute_result"
    }
   ],
   "source": [
    "tests"
   ]
  },
  {
   "cell_type": "markdown",
   "id": "2cba45d3",
   "metadata": {},
   "source": [
    "This is a fairly exhaustive number of test cases to evaluate our program or function. Creating test cases before hand allows us to identify different variations and edge cases in advance so that we can ensure to handle them when writing the code. Even though it might be difficult in the start, the solution will eventually present itself as we try to come with intersting test cases."
   ]
  },
  {
   "cell_type": "markdown",
   "id": "3e7da62c",
   "metadata": {},
   "source": [
    "# 3) Coming up with a correct solution to the problem stated in plain English"
   ]
  },
  {
   "cell_type": "markdown",
   "id": "16ad9262",
   "metadata": {},
   "source": [
    "Here, the first goal is to come up with a correct solutuio to the problem. It doesnt have to be the most efficien solution. Buth this simples or the most obvious solution to our problem is called the brute force solution. \n",
    "This is how we will iplement a brute solution to our problem by first  creating a linear search algorithm in plain English:\n",
    "    1. Create a variable position with value 0.\n",
    "    2. Check whether the number index postion in card equals query.\n",
    "    3. If it does, position is the answer and it can be returned to the function.\n",
    "    4. If not, increment the value of postion by 1, and repeat steps 2 to 5 till we reach the last postion.\n",
    "    5. If the number was not found return -1.\n",
    "Note that an algorithm is a set of statemens that can be converted into a code and executed by a computer on a set of inputs. This particularalgorithm is a linear search since it involves searching through a list in a linear function. \n",
    "ie: Line after line\n",
    "Express yor thoghts through writing as this will make it easier to code."
   ]
  },
  {
   "cell_type": "markdown",
   "id": "792a974c",
   "metadata": {},
   "source": [
    "# 4) Implement the solution, testing it using example inputs, and fixing bugs if any. "
   ]
  },
  {
   "cell_type": "code",
   "execution_count": 56,
   "id": "a4d29e4c",
   "metadata": {},
   "outputs": [],
   "source": [
    "#Attempt 1:\n",
    "def locate_cards(cards, query):\n",
    "    #1.creating a variable called postion with value 0\n",
    "    position = 0\n",
    "    #2(a)Setting up a loop for repetition\n",
    "    while True:\n",
    "        #2(b) Check if the elements in current postion matches the query\n",
    "        if cards[position]==query:\n",
    "            #3) Answer found; the program should return and exit...\n",
    "            return position\n",
    "        #4(a) Increment the position by 1 if not found\n",
    "        position += 1\n",
    "        #4(b) Check if we have reached the end of the array\n",
    "        if position == len(cards):\n",
    "            \n",
    "            #5) Number not found, return -1\n",
    "            return -1\n",
    "        \n",
    "    "
   ]
  },
  {
   "cell_type": "markdown",
   "id": "3fae75cc",
   "metadata": {},
   "source": [
    "Lets test the first attempt"
   ]
  },
  {
   "cell_type": "code",
   "execution_count": 57,
   "id": "d5f560f3",
   "metadata": {},
   "outputs": [
    {
     "data": {
      "text/plain": [
       "{'input': {'cards': [13, 11, 10, 7, 4, 3, 1, 0], 'query': 7}, 'output': 3}"
      ]
     },
     "execution_count": 57,
     "metadata": {},
     "output_type": "execute_result"
    }
   ],
   "source": [
    "test"
   ]
  },
  {
   "cell_type": "code",
   "execution_count": 58,
   "id": "3041822c",
   "metadata": {},
   "outputs": [
    {
     "data": {
      "text/plain": [
       "True"
      ]
     },
     "execution_count": 58,
     "metadata": {},
     "output_type": "execute_result"
    }
   ],
   "source": [
    "result = locate_cards(test['input']['cards'],test['input']['query'])==test['output']\n",
    "result"
   ]
  },
  {
   "cell_type": "markdown",
   "id": "54591b0a",
   "metadata": {},
   "source": [
    "The line above just tests whether the result matches the output, and when we compare the result and the output we get True, hence indeed the result matches the output"
   ]
  },
  {
   "cell_type": "code",
   "execution_count": 59,
   "id": "a7b5b553",
   "metadata": {},
   "outputs": [
    {
     "data": {
      "text/plain": [
       "3"
      ]
     },
     "execution_count": 59,
     "metadata": {},
     "output_type": "execute_result"
    }
   ],
   "source": [
    "locate_cards(test['input']['cards'],test['input']['query'])"
   ]
  },
  {
   "cell_type": "markdown",
   "id": "2b66f4bb",
   "metadata": {},
   "source": [
    "In this line above, we see that if we task our program to select number 7 from the input of cards, we find that number 7 will be on cadrd indexed number 3"
   ]
  },
  {
   "cell_type": "code",
   "execution_count": 60,
   "id": "4504b1ba",
   "metadata": {},
   "outputs": [
    {
     "name": "stdout",
     "output_type": "stream",
     "text": [
      "True\n",
      "3\n",
      "True\n",
      "6\n",
      "True\n",
      "3\n",
      "True\n",
      "0\n",
      "True\n",
      "3\n",
      "True\n",
      "3\n",
      "True\n",
      "3\n",
      "True\n",
      "-1\n",
      "True\n",
      "3\n"
     ]
    },
    {
     "ename": "IndexError",
     "evalue": "list index out of range",
     "output_type": "error",
     "traceback": [
      "\u001b[1;31m---------------------------------------------------------------------------\u001b[0m",
      "\u001b[1;31mIndexError\u001b[0m                                Traceback (most recent call last)",
      "\u001b[1;32m~\\AppData\\Local\\Temp\\ipykernel_6260\\2696614586.py\u001b[0m in \u001b[0;36m<module>\u001b[1;34m\u001b[0m\n\u001b[0;32m      1\u001b[0m \u001b[1;32mfor\u001b[0m \u001b[0mtest\u001b[0m \u001b[1;32min\u001b[0m \u001b[0mtests\u001b[0m\u001b[1;33m:\u001b[0m\u001b[1;33m\u001b[0m\u001b[1;33m\u001b[0m\u001b[0m\n\u001b[1;32m----> 2\u001b[1;33m     \u001b[0mprint\u001b[0m\u001b[1;33m(\u001b[0m\u001b[0mlocate_cards\u001b[0m\u001b[1;33m(\u001b[0m\u001b[1;33m**\u001b[0m\u001b[0mtest\u001b[0m\u001b[1;33m[\u001b[0m\u001b[1;34m'input'\u001b[0m\u001b[1;33m]\u001b[0m\u001b[1;33m)\u001b[0m\u001b[1;33m==\u001b[0m\u001b[0mtest\u001b[0m\u001b[1;33m[\u001b[0m\u001b[1;34m'output'\u001b[0m\u001b[1;33m]\u001b[0m\u001b[1;33m)\u001b[0m\u001b[1;33m\u001b[0m\u001b[1;33m\u001b[0m\u001b[0m\n\u001b[0m\u001b[0;32m      3\u001b[0m     \u001b[0mprint\u001b[0m\u001b[1;33m(\u001b[0m\u001b[0mlocate_cards\u001b[0m\u001b[1;33m(\u001b[0m\u001b[1;33m**\u001b[0m\u001b[0mtest\u001b[0m\u001b[1;33m[\u001b[0m\u001b[1;34m'input'\u001b[0m\u001b[1;33m]\u001b[0m\u001b[1;33m)\u001b[0m\u001b[1;33m)\u001b[0m\u001b[1;33m\u001b[0m\u001b[1;33m\u001b[0m\u001b[0m\n",
      "\u001b[1;32m~\\AppData\\Local\\Temp\\ipykernel_6260\\589036940.py\u001b[0m in \u001b[0;36mlocate_cards\u001b[1;34m(cards, query)\u001b[0m\n\u001b[0;32m      6\u001b[0m     \u001b[1;32mwhile\u001b[0m \u001b[1;32mTrue\u001b[0m\u001b[1;33m:\u001b[0m\u001b[1;33m\u001b[0m\u001b[1;33m\u001b[0m\u001b[0m\n\u001b[0;32m      7\u001b[0m         \u001b[1;31m#2(b) Check if the elements in current postion matches the query\u001b[0m\u001b[1;33m\u001b[0m\u001b[1;33m\u001b[0m\u001b[0m\n\u001b[1;32m----> 8\u001b[1;33m         \u001b[1;32mif\u001b[0m \u001b[0mcards\u001b[0m\u001b[1;33m[\u001b[0m\u001b[0mposition\u001b[0m\u001b[1;33m]\u001b[0m\u001b[1;33m==\u001b[0m\u001b[0mquery\u001b[0m\u001b[1;33m:\u001b[0m\u001b[1;33m\u001b[0m\u001b[1;33m\u001b[0m\u001b[0m\n\u001b[0m\u001b[0;32m      9\u001b[0m             \u001b[1;31m#3) Answer found; the program should return and exit...\u001b[0m\u001b[1;33m\u001b[0m\u001b[1;33m\u001b[0m\u001b[0m\n\u001b[0;32m     10\u001b[0m             \u001b[1;32mreturn\u001b[0m \u001b[0mposition\u001b[0m\u001b[1;33m\u001b[0m\u001b[1;33m\u001b[0m\u001b[0m\n",
      "\u001b[1;31mIndexError\u001b[0m: list index out of range"
     ]
    }
   ],
   "source": [
    "for test in tests:\n",
    "    print(locate_cards(**test['input'])==test['output'])\n",
    "    print(locate_cards(**test['input']))"
   ]
  },
  {
   "cell_type": "code",
   "execution_count": null,
   "id": "fd376b61",
   "metadata": {},
   "outputs": [],
   "source": []
  },
  {
   "cell_type": "code",
   "execution_count": null,
   "id": "254fe8b0",
   "metadata": {},
   "outputs": [],
   "source": []
  },
  {
   "cell_type": "code",
   "execution_count": null,
   "id": "c23b3bed",
   "metadata": {},
   "outputs": [],
   "source": []
  }
 ],
 "metadata": {
  "kernelspec": {
   "display_name": "Python 3 (ipykernel)",
   "language": "python",
   "name": "python3"
  },
  "language_info": {
   "codemirror_mode": {
    "name": "ipython",
    "version": 3
   },
   "file_extension": ".py",
   "mimetype": "text/x-python",
   "name": "python",
   "nbconvert_exporter": "python",
   "pygments_lexer": "ipython3",
   "version": "3.9.13"
  }
 },
 "nbformat": 4,
 "nbformat_minor": 5
}
