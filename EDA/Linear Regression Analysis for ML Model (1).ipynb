{
 "cells": [
  {
   "cell_type": "code",
   "execution_count": 3,
   "id": "05f59550",
   "metadata": {},
   "outputs": [],
   "source": [
    "import pandas as pd\n",
    "import numpy as np\n",
    "import matplotlib.pyplot as plt"
   ]
  },
  {
   "cell_type": "markdown",
   "id": "10032cc7",
   "metadata": {},
   "source": [
    "# Generating My Own Data Frame\n",
    "This dataframe is designed (using pyhton dictionary) to estalish the relationship between the hours studied and the marks scored by a student"
   ]
  },
  {
   "cell_type": "code",
   "execution_count": 4,
   "id": "b290f787",
   "metadata": {},
   "outputs": [
    {
     "data": {
      "text/html": [
       "<div>\n",
       "<style scoped>\n",
       "    .dataframe tbody tr th:only-of-type {\n",
       "        vertical-align: middle;\n",
       "    }\n",
       "\n",
       "    .dataframe tbody tr th {\n",
       "        vertical-align: top;\n",
       "    }\n",
       "\n",
       "    .dataframe thead th {\n",
       "        text-align: right;\n",
       "    }\n",
       "</style>\n",
       "<table border=\"1\" class=\"dataframe\">\n",
       "  <thead>\n",
       "    <tr style=\"text-align: right;\">\n",
       "      <th></th>\n",
       "      <th>Hours_studied</th>\n",
       "      <th>Test_Grade</th>\n",
       "    </tr>\n",
       "  </thead>\n",
       "  <tbody>\n",
       "    <tr>\n",
       "      <th>0</th>\n",
       "      <td>3</td>\n",
       "      <td>57.0</td>\n",
       "    </tr>\n",
       "    <tr>\n",
       "      <th>1</th>\n",
       "      <td>5</td>\n",
       "      <td>63.0</td>\n",
       "    </tr>\n",
       "    <tr>\n",
       "      <th>2</th>\n",
       "      <td>7</td>\n",
       "      <td>65.0</td>\n",
       "    </tr>\n",
       "    <tr>\n",
       "      <th>3</th>\n",
       "      <td>9</td>\n",
       "      <td>71.0</td>\n",
       "    </tr>\n",
       "    <tr>\n",
       "      <th>4</th>\n",
       "      <td>11</td>\n",
       "      <td>74.9</td>\n",
       "    </tr>\n",
       "    <tr>\n",
       "      <th>5</th>\n",
       "      <td>13</td>\n",
       "      <td>76.6</td>\n",
       "    </tr>\n",
       "    <tr>\n",
       "      <th>6</th>\n",
       "      <td>15</td>\n",
       "      <td>80.0</td>\n",
       "    </tr>\n",
       "    <tr>\n",
       "      <th>7</th>\n",
       "      <td>17</td>\n",
       "      <td>80.1</td>\n",
       "    </tr>\n",
       "    <tr>\n",
       "      <th>8</th>\n",
       "      <td>19</td>\n",
       "      <td>82.3</td>\n",
       "    </tr>\n",
       "    <tr>\n",
       "      <th>9</th>\n",
       "      <td>21</td>\n",
       "      <td>82.9</td>\n",
       "    </tr>\n",
       "    <tr>\n",
       "      <th>10</th>\n",
       "      <td>23</td>\n",
       "      <td>83.2</td>\n",
       "    </tr>\n",
       "  </tbody>\n",
       "</table>\n",
       "</div>"
      ],
      "text/plain": [
       "    Hours_studied  Test_Grade\n",
       "0               3        57.0\n",
       "1               5        63.0\n",
       "2               7        65.0\n",
       "3               9        71.0\n",
       "4              11        74.9\n",
       "5              13        76.6\n",
       "6              15        80.0\n",
       "7              17        80.1\n",
       "8              19        82.3\n",
       "9              21        82.9\n",
       "10             23        83.2"
      ]
     },
     "execution_count": 4,
     "metadata": {},
     "output_type": "execute_result"
    }
   ],
   "source": [
    "df = pd.DataFrame({'Hours_studied':range(3,24,2),\n",
    "          'Test_Grade':[57,63,65,71, 74.9, 76.6,80,80.1,82.3, 82.9,83.2]},\n",
    "           index = range(11))\n",
    "df"
   ]
  },
  {
   "cell_type": "code",
   "execution_count": 5,
   "id": "1ae50b24",
   "metadata": {},
   "outputs": [
    {
     "data": {
      "text/plain": [
       "<AxesSubplot:title={'center':'Grade vs Hours Studied'}, xlabel='Hours_studied', ylabel='Test_Grade'>"
      ]
     },
     "execution_count": 5,
     "metadata": {},
     "output_type": "execute_result"
    },
    {
     "data": {
      "image/png": "[encoded data removed]",
      "text/plain": [
       "<Figure size 640x480 with 1 Axes>"
      ]
     },
     "metadata": {},
     "output_type": "display_data"
    }
   ],
   "source": [
    "k = df['Test_Grade']\n",
    "m = df['Hours_studied']\n",
    "df.plot(kind='scatter', x='Hours_studied', y='Test_Grade', title='Grade vs Hours Studied') \n"
   ]
  },
  {
   "cell_type": "code",
   "execution_count": 6,
   "id": "e9e8b15f",
   "metadata": {},
   "outputs": [
    {
     "data": {
      "text/html": [
       "<div>\n",
       "<style scoped>\n",
       "    .dataframe tbody tr th:only-of-type {\n",
       "        vertical-align: middle;\n",
       "    }\n",
       "\n",
       "    .dataframe tbody tr th {\n",
       "        vertical-align: top;\n",
       "    }\n",
       "\n",
       "    .dataframe thead th {\n",
       "        text-align: right;\n",
       "    }\n",
       "</style>\n",
       "<table border=\"1\" class=\"dataframe\">\n",
       "  <thead>\n",
       "    <tr style=\"text-align: right;\">\n",
       "      <th></th>\n",
       "      <th>Hours_studied</th>\n",
       "      <th>Test_Grade</th>\n",
       "    </tr>\n",
       "  </thead>\n",
       "  <tbody>\n",
       "    <tr>\n",
       "      <th>Hours_studied</th>\n",
       "      <td>1.000000</td>\n",
       "      <td>0.955606</td>\n",
       "    </tr>\n",
       "    <tr>\n",
       "      <th>Test_Grade</th>\n",
       "      <td>0.955606</td>\n",
       "      <td>1.000000</td>\n",
       "    </tr>\n",
       "  </tbody>\n",
       "</table>\n",
       "</div>"
      ],
      "text/plain": [
       "               Hours_studied  Test_Grade\n",
       "Hours_studied       1.000000    0.955606\n",
       "Test_Grade          0.955606    1.000000"
      ]
     },
     "execution_count": 6,
     "metadata": {},
     "output_type": "execute_result"
    }
   ],
   "source": [
    "df.corr()"
   ]
  },
  {
   "cell_type": "raw",
   "id": "8909718f",
   "metadata": {},
   "source": [
    "By plotting the hours studied on the x-axis and the test grades on the y-axis in a scatter plot, we observe that as the hours studied increases, the test grades also increase gradually. This indicates that there is a linear relationship between the two variables. Further analysis of the correlation between the two variables reveals a positive correlation of 95.5%, suggesting that any increase in study hours has a 95.5% likelihood of leading to an increase in test grades."
   ]
  },
  {
   "cell_type": "markdown",
   "id": "17d34c8c",
   "metadata": {},
   "source": [
    "## Regression Analysis Model"
   ]
  },
  {
   "cell_type": "code",
   "execution_count": 7,
   "id": "b1cc15fd",
   "metadata": {},
   "outputs": [],
   "source": [
    "# importing linear regression function \n",
    "import sklearn.linear_model as lm\n"
   ]
  },
  {
   "cell_type": "code",
   "execution_count": 8,
   "id": "dbfdb1d3",
   "metadata": {},
   "outputs": [
    {
     "data": {
      "text/plain": [
       "LinearRegression()"
      ]
     },
     "execution_count": 8,
     "metadata": {},
     "output_type": "execute_result"
    }
   ],
   "source": [
    "# Create linear regression object \n",
    "lr = lm.LinearRegression()\n",
    "lr"
   ]
  },
  {
   "cell_type": "markdown",
   "id": "851ef082",
   "metadata": {},
   "source": [
    "# Training the Linear Regression ML Model"
   ]
  },
  {
   "cell_type": "code",
   "execution_count": 9,
   "id": "a2f7c5d6",
   "metadata": {},
   "outputs": [
    {
     "name": "stderr",
     "output_type": "stream",
     "text": [
      "C:\\Users\\JOB\\AppData\\Local\\Temp\\ipykernel_5972\\3197273393.py:1: FutureWarning: Support for multi-dimensional indexing (e.g. `obj[:, None]`) is deprecated and will be removed in a future version.  Convert to a numpy array before indexing instead.\n",
      "  x= df.Hours_studied[:, np.newaxis] # independent variable\n"
     ]
    },
    {
     "name": "stdout",
     "output_type": "stream",
     "text": [
      "Intercept:  57.29363636363637\n",
      "Coefficient:  [1.29909091]\n"
     ]
    }
   ],
   "source": [
    "x= df.Hours_studied[:, np.newaxis] # independent variable \n",
    "y= df.Test_Grade.values            # dependent variable\n",
    "# Training the model using the training sets \n",
    "lr.fit(x, y) \n",
    "print (\"Intercept: \", lr.intercept_)\n",
    "print (\"Coefficient: \", lr.coef_)\n",
    "\n"
   ]
  },
  {
   "cell_type": "markdown",
   "id": "d09f405c",
   "metadata": {},
   "source": [
    "##### Using the Linear Regreassion Model To Manually Predict Test Grades for Some Given Study Hrs (6hrs)"
   ]
  },
  {
   "cell_type": "code",
   "execution_count": 10,
   "id": "2816e8d2",
   "metadata": {},
   "outputs": [
    {
     "name": "stdout",
     "output_type": "stream",
     "text": [
      "Manual prdiction : [65.08818182]\n"
     ]
    }
   ],
   "source": [
    "# manual prediction for a given value of x \n",
    "print(\"Manual prdiction :\", lr.intercept_ + lr.coef_*6)\n"
   ]
  },
  {
   "cell_type": "markdown",
   "id": "8111de41",
   "metadata": {},
   "source": [
    "##### Predicting the test grades for 6 study hrs using the built-in leinear regression function \n"
   ]
  },
  {
   "cell_type": "code",
   "execution_count": 11,
   "id": "fb2a53a5",
   "metadata": {},
   "outputs": [
    {
     "name": "stdout",
     "output_type": "stream",
     "text": [
      "Using predict function:  [65.08818182]\n"
     ]
    }
   ],
   "source": [
    "scalar = 6\n",
    "array = np.array([[scalar]])\n",
    "print(\"Using predict function: \", lr.predict(array))"
   ]
  },
  {
   "cell_type": "raw",
   "id": "d204ae53",
   "metadata": {},
   "source": [
    "Based on the established linear relationship between study hours and test grades, it is possible to predict the score of a new student based on their study hours. For instance, if a student is planning to study for a total of 6 hours before the test, we can estimate their score by drawing a connecting line from the point on the x-axis to the corresponding point on the slope, which indicates a potential score of 65.\n",
    "\n",
    "The slope equation can be used to predict the test grade for any given number of study hours, with the test grade being the dependent variable denoted by ‘Y’ and hours studied as the independent variable or predictor denoted by ‘X’."
   ]
  },
  {
   "cell_type": "markdown",
   "id": "6fe89050",
   "metadata": {},
   "source": [
    "### Regression Modelling"
   ]
  },
  {
   "cell_type": "code",
   "execution_count": 9,
   "id": "7b4f479a",
   "metadata": {},
   "outputs": [
    {
     "data": {
      "text/plain": [
       "Text(0.5, 0, 'Hours_Studied')"
      ]
     },
     "execution_count": 9,
     "metadata": {},
     "output_type": "execute_result"
    },
    {
     "data": {
      "image/png": "[encoded data removed]",
      "text/plain": [
       "<Figure size 640x480 with 1 Axes>"
      ]
     },
     "metadata": {},
     "output_type": "display_data"
    }
   ],
   "source": [
    "# plotting fitted line \n",
    "plt.scatter(x, y,  color='black') \n",
    "plt.plot(x, lr.predict(x), color='blue', linewidth=3) \n",
    "plt.title('Grade vs Hours Studied') \n",
    "plt.ylabel('Test_Grade') \n",
    "plt.xlabel('Hours_Studied')"
   ]
  },
  {
   "cell_type": "raw",
   "id": "f918edf2",
   "metadata": {},
   "source": [
    "By substituting the appropriate values into the slope equation (m * X + c = Y), we can calculate that a student who studies for 6 hours has a probability of scoring 80.74 on the test, with the slope of 4.74260355 and the y-intercept of 52.2928994083. \n",
    "ie: y = 1.29909091 * 6 + 57.29363636363637 = 65.08818182 \n",
    "It is important to note that if the value of X (hours studied) is zero, the value of Y (test grade) will be 57.29, indicating that there may be other variables that have a causal effect on the score that are currently unknown and unaccounted for."
   ]
  },
  {
   "cell_type": "markdown",
   "id": "b03377ff",
   "metadata": {},
   "source": [
    "#### The efficiency of the model: Computing R Squared, Root Mean Squared Error (RMSE), and Mean Absolute Error(MAE)"
   ]
  },
  {
   "cell_type": "code",
   "execution_count": 10,
   "id": "cd8ad394",
   "metadata": {},
   "outputs": [],
   "source": [
    "from sklearn.metrics import r2_score , mean_absolute_error, mean_squared_error\n"
   ]
  },
  {
   "cell_type": "code",
   "execution_count": 11,
   "id": "90d21ab7",
   "metadata": {},
   "outputs": [],
   "source": [
    "# add predict value to the data frame \n",
    "df['Test_Grade_Pred'] = lr.predict(x)\n"
   ]
  },
  {
   "cell_type": "markdown",
   "id": "7e4c711c",
   "metadata": {},
   "source": [
    "#### R-Squared"
   ]
  },
  {
   "cell_type": "raw",
   "id": "8e4178b0",
   "metadata": {},
   "source": [
    "I used the R-squared metric to assess how well the model fits the data. The R-squared value indicates the proportion of the variance in the dependent variable and is a value that ranges between 0 and 1. A higher value indicating a better model fit as it explains more of the variance in the dependent variable."
   ]
  },
  {
   "cell_type": "markdown",
   "id": "3ff03326",
   "metadata": {},
   "source": [
    "##### Manually calculating R Squared "
   ]
  },
  {
   "cell_type": "code",
   "execution_count": 12,
   "id": "bedba337",
   "metadata": {},
   "outputs": [
    {
     "name": "stdout",
     "output_type": "stream",
     "text": [
      "Sum of SSR: 742.560363636364\n",
      "Sum of SST: 813.1563636363635\n",
      "R Squared using manual calculation:  0.9131827491525732\n"
     ]
    }
   ],
   "source": [
    "df['SST'] = np.square(df['Test_Grade'] - df['Test_Grade'].mean()) \n",
    "df['SSR'] = np.square(df['Test_Grade_Pred'] - df['Test_Grade'].mean())\n",
    "print (\"Sum of SSR:\", df['SSR'].sum()) \n",
    "print (\"Sum of SST:\", df['SST'].sum())\n",
    "print (\"R Squared using manual calculation: \", df['SSR'].sum() / df['SST'].sum())\n"
   ]
  },
  {
   "cell_type": "raw",
   "id": "9178b1a0",
   "metadata": {},
   "source": [
    "In this case R-squared can be interpreted as 91.3% of variablility in the dependent variable (test score) can be explained by the independent variable (hours studied).\n",
    "\n",
    "The sum of SSR (Sum of Squared Residuals) is 742.560363636364, which represents the amount of variation in the dependent variable that is explained by the independent variable in the regression analysis. The sum of SST (Total Sum of Squares) is 813.1563636363635, which represents the total variation in the dependent variable. \n",
    "An R-squared value of 91% indicates that 91% of the total variation in the dependent variable is explained by the independent variable, meaning that the regression model is a good fit for the data.\n"
   ]
  },
  {
   "cell_type": "markdown",
   "id": "cf0d2f57",
   "metadata": {},
   "source": [
    "##### Using built-in function "
   ]
  },
  {
   "cell_type": "code",
   "execution_count": 14,
   "id": "93d01d44",
   "metadata": {},
   "outputs": [
    {
     "name": "stdout",
     "output_type": "stream",
     "text": [
      "R Squared using built-in function:  1.0\n",
      "Mean Absolute Error:  2.1844628099173535\n",
      "Root Mean Squared Error:  2.533341307802441\n"
     ]
    }
   ],
   "source": [
    "print (\"R Squared using built-in function: \", r2_score(df.Test_Grade, y)) \n",
    "print (\"Mean Absolute Error: \", mean_absolute_error(df.Test_Grade, df.Test_Grade_Pred)) \n",
    "print (\"Root Mean Squared Error: \", np.sqrt(mean_squared_error(df.Test_Grade, df.Test_Grade_Pred)))\n"
   ]
  },
  {
   "cell_type": "raw",
   "id": "8fd533b8",
   "metadata": {},
   "source": [
    "Mean Absolute Error (MAE) is a measure of the average magnitude of errors in a set of predictions, and a value of 2.1844628099173535 means that on average, the model's predictions are off by approximately 2.18 units. Root Mean Squared Error (RMSE) is a measure of the average distance between the predicted and actual values, and a value of 2.533341307802441 means that the model's predictions have an average error of approximately 2.53 units. Both MAE and RMSE are used to evaluate the performance of a regression model, with lower values indicating better model performance."
   ]
  }
 ],
 "metadata": {
  "kernelspec": {
   "display_name": "Python 3 (ipykernel)",
   "language": "python",
   "name": "python3"
  },
  "language_info": {
   "codemirror_mode": {
    "name": "ipython",
    "version": 3
   },
   "file_extension": ".py",
   "mimetype": "text/x-python",
   "name": "python",
   "nbconvert_exporter": "python",
   "pygments_lexer": "ipython3",
   "version": "3.9.13"
  }
 },
 "nbformat": 4,
 "nbformat_minor": 5
}
